{
 "cells": [
  {
   "cell_type": "code",
   "execution_count": 17,
   "metadata": {
    "collapsed": true
   },
   "outputs": [],
   "source": [
    "# genreId: 1 = Horror, 2 = Romance\n",
    "import pandas as pd\n",
    "import numpy as np\n",
    "data = pd.read_csv('movielens.csv')\n",
    "\n",
    "df_Horror = data.loc[data['genreId'] == 1, :]\n",
    "df_Romance = data.loc[data['genreId'] == 2, :]"
   ]
  },
  {
   "cell_type": "code",
   "execution_count": 18,
   "metadata": {
    "collapsed": false
   },
   "outputs": [],
   "source": [
    "# Note: nb total movie = nb Horror movie + nb Romance movie\n",
    "nb_horror_movie = len(df_Horror['movieId'].unique())\n",
    "nb_romance_movie = len(df_Romance['movieId'].unique())\n",
    "nb_users = len(data['userInd'].unique())\n",
    "\n",
    "# construct matrix of dimension (user, movie) s.t\n",
    "# X_horror[i,j] = rating[user[i], movie[j]] if exist and 0 otherwise\n",
    "# X_romance[i,j] = rating[user[i], movie[j]] if exist and 0 otherwise\n",
    "X_horror = np.zeros((nb_users, nb_horror_movie))\n",
    "X_romance = np.zeros((nb_users, nb_romance_movie))"
   ]
  },
  {
   "cell_type": "code",
   "execution_count": 31,
   "metadata": {
    "collapsed": false
   },
   "outputs": [],
   "source": [
    "shift = np.min(df_Romance['movieInd'])\n",
    "\n",
    "for i in range(nb_users):\n",
    "    movie_ind = np.array(df_Horror.loc[df_Horror['userInd'] == i]['movieInd'])\n",
    "    rating = np.array(df_Horror.loc[df_Horror['userInd'] == i]['rating'])\n",
    "    X_horror[i, movie_ind] = rating\n",
    "\n",
    "    movie_ind = np.array(df_Romance.loc[df_Romance['userInd'] == i]['movieInd']) - shift\n",
    "    rating = np.array(df_Romance.loc[df_Romance['userInd'] == i]['rating'])\n",
    "    X_romance[i, movie_ind] = rating"
   ]
  },
  {
   "cell_type": "code",
   "execution_count": 34,
   "metadata": {
    "collapsed": true
   },
   "outputs": [],
   "source": [
    "X_horror_romance = np.concatenate((X_horror, X_romance), axis=1)"
   ]
  },
  {
   "cell_type": "code",
   "execution_count": 39,
   "metadata": {
    "collapsed": false
   },
   "outputs": [
    {
     "data": {
      "text/plain": [
       "(array([  23,   41,   42,   44,   47,   60,   62,   76,   77,  121,  127,\n",
       "         162,  181,  200,  222,  228,  229,  235,  862,  863,  867,  870,\n",
       "         908,  921,  935,  937,  968,  990,  999, 1005, 1006, 1008, 1085], dtype=int64),)"
      ]
     },
     "execution_count": 39,
     "metadata": {},
     "output_type": "execute_result"
    }
   ],
   "source": [
    "# to check the correctness of the matrix\n",
    "# display index of nonzeros element of user[0], it should match the movieInd number of user 0\n",
    "# in movielens.csv\n",
    "np.nonzero(X_horror_romance[0])"
   ]
  },
  {
   "cell_type": "code",
   "execution_count": 40,
   "metadata": {
    "collapsed": true
   },
   "outputs": [],
   "source": [
    "# save matrices to avoid recreating it each time\n",
    "np.save('horror_mat.npy', X_horror)\n",
    "np.save('romance_mat.npy', X_romance)\n",
    "np.save('horror_romance_mat.npy', X_horror_romance)"
   ]
  },
  {
   "cell_type": "code",
   "execution_count": null,
   "metadata": {
    "collapsed": true
   },
   "outputs": [],
   "source": []
  }
 ],
 "metadata": {
  "kernelspec": {
   "display_name": "Python 3",
   "language": "python",
   "name": "python3"
  },
  "language_info": {
   "codemirror_mode": {
    "name": "ipython",
    "version": 3
   },
   "file_extension": ".py",
   "mimetype": "text/x-python",
   "name": "python",
   "nbconvert_exporter": "python",
   "pygments_lexer": "ipython3",
   "version": "3.6.0"
  }
 },
 "nbformat": 4,
 "nbformat_minor": 2
}
