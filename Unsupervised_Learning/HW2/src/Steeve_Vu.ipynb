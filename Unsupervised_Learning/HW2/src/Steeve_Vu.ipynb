{
 "cells": [
  {
   "cell_type": "code",
   "execution_count": 1,
   "metadata": {
    "ExecuteTime": {
     "end_time": "2017-12-22T13:50:09.112003Z",
     "start_time": "2017-12-22T13:50:08.833058Z"
    },
    "collapsed": true
   },
   "outputs": [],
   "source": [
    "import sys\n",
    "import glob\n",
    "import itertools\n",
    "import numpy as np\n",
    "import scipy.io as sio\n",
    "import multiprocessing as mp\n",
    "import matplotlib.pyplot as plt\n",
    "from scipy.linalg import eigh, sqrtm\n",
    "from sklearn.cluster import KMeans\n",
    "from scipy.optimize import linear_sum_assignment\n",
    "from sklearn.neighbors import NearestNeighbors"
   ]
  },
  {
   "cell_type": "markdown",
   "metadata": {},
   "source": [
    "# Clustering algorithms"
   ]
  },
  {
   "cell_type": "code",
   "execution_count": 107,
   "metadata": {
    "ExecuteTime": {
     "end_time": "2017-12-22T15:05:28.065997Z",
     "start_time": "2017-12-22T15:05:28.054396Z"
    },
    "code_folding": [],
    "collapsed": true
   },
   "outputs": [],
   "source": [
    "def construct_affinity(data, sigma, k):\n",
    "    knn = NearestNeighbors()\n",
    "    d_sum = np.linalg.norm(data, axis=0).reshape(1, -1)\n",
    "    data = data / d_sum\n",
    "    knn.fit(data.T)\n",
    "    \n",
    "    N = data.shape[1]\n",
    "    W = np.zeros((N, N))\n",
    "    \n",
    "    for i in range(N):\n",
    "        dist, ind = knn.kneighbors([data[:, i].T], n_neighbors=k+1)\n",
    "        dist = dist[0, 1:]\n",
    "        ind = ind[0, 1:]\n",
    "        \n",
    "        for j, d in zip(ind, dist):\n",
    "            W[i, j] = np.exp(-(d**2)/2.0/(sigma**2))\n",
    "    \n",
    "    return W + W.T"
   ]
  },
  {
   "cell_type": "code",
   "execution_count": 109,
   "metadata": {
    "ExecuteTime": {
     "end_time": "2017-12-22T15:05:50.713903Z",
     "start_time": "2017-12-22T15:05:50.699434Z"
    },
    "code_folding": [],
    "collapsed": true
   },
   "outputs": [],
   "source": [
    "def spectral_clustering(affinity, n, normalized=False):\n",
    "    N = affinity.shape[1]\n",
    "    d = np.diag(affinity.dot(np.ones((N, 1))).reshape(-1))\n",
    "    \n",
    "    laplacian = d - affinity\n",
    "    \n",
    "    if np.sum(affinity) == 0:\n",
    "        return None\n",
    "    \n",
    "    if normalized:\n",
    "        if np.any(np.linalg.eigvals(d) <= 0):\n",
    "            return None\n",
    "        \n",
    "        eigv, vect = eigh(laplacian, d)\n",
    "    else:\n",
    "        eigv, vect = eigh(laplacian)\n",
    "        \n",
    "    vect = vect[:, :n]\n",
    "    \n",
    "    for i in range(n):\n",
    "        vect[:, i] = vect[:, i]/np.linalg.norm(vect[:, i], axis=0)\n",
    "        \n",
    "    Y = vect.T\n",
    "    \n",
    "    kmeans = KMeans(n_clusters=n).fit(Y.T)\n",
    "    z = kmeans.labels_\n",
    "    \n",
    "    return z"
   ]
  },
  {
   "cell_type": "code",
   "execution_count": 4,
   "metadata": {
    "ExecuteTime": {
     "end_time": "2017-12-22T13:50:12.923166Z",
     "start_time": "2017-12-22T13:50:12.816369Z"
    },
    "collapsed": true
   },
   "outputs": [],
   "source": [
    "def compute_dist(x_j, (U_l, mu_l)):\n",
    "    d = U_l.shape[0]\n",
    "    left = np.identity(d) - U_l.dot(U_l.T)\n",
    "    right = x_j.reshape(-1, 1) - mu_l.reshape(-1, 1)\n",
    "\n",
    "    return np.linalg.norm(left.dot(right))**2\n",
    "\n",
    "def segmentation_step(U, mu, data, n):\n",
    "    D, N = data.shape\n",
    "    d = U[0].shape[0]\n",
    "    U_n = np.array([U_l.dot(U_l.T) for U_l in U])\n",
    "    left = np.identity(d) - U_n\n",
    "    X = np.zeros((n, D, N))\n",
    "    X[:, :, :] = data - np.array(mu).reshape((n, D, 1))\n",
    "    dist_n = np.einsum('ijk,ikn->ijn', left, X)\n",
    "    dist_n = np.linalg.norm(dist_n, axis=1)\n",
    "\n",
    "    W_n = np.zeros_like(dist_n)\n",
    "    W_n[dist_n.argmin(0), np.arange(dist_n.shape[1])] = 1\n",
    "\n",
    "    return W_n\n",
    "\n",
    "def estimation_step(W, data, n, d):\n",
    "    mu = []\n",
    "    U = []\n",
    "    Y = []\n",
    "\n",
    "    for i in range(n):\n",
    "        w_i = W[i, :]\n",
    "        ind_w_i = np.where(w_i == 1)[0]\n",
    "\n",
    "        mu_tmp = np.sum(data[:, ind_w_i], 1) / float(ind_w_i.size)\n",
    "        mu.append(mu_tmp.reshape(-1, 1))\n",
    "\n",
    "        x_norm = data - mu[i]\n",
    "        x_norm_w = x_norm[:, ind_w_i]\n",
    "\n",
    "        mat = x_norm_w.dot(x_norm_w.T)   \n",
    "        _, vect = np.linalg.eigh(mat)\n",
    "        # top d eigenvectors\n",
    "        U.append(vect[:, -d[i]:])\n",
    "\n",
    "        y_tmp = U[i].T.dot(x_norm_w)\n",
    "        Y.append(y_tmp)\n",
    "\n",
    "    return mu, U, Y\n",
    "\n",
    "def obj_function(W, mu, U, data, n):\n",
    "    N = data.shape[1]\n",
    "    obj = 0\n",
    "\n",
    "    for i in range(n):\n",
    "        for j in range(N):\n",
    "            if W[i, j] != 0:\n",
    "                obj += compute_dist(data[:, j], (U[i], mu[i]))\n",
    "\n",
    "    return obj\n",
    "\n",
    "def do_one_rep(data, D, N, n, d, pool=False, rand=None, n_iter=100, debug=False):\n",
    "    # Initialize mu with random points from the data\n",
    "    if rand is None:\n",
    "        ind = np.random.choice(range(N), n, replace=False)\n",
    "    else:\n",
    "        ind = rand\n",
    "        \n",
    "    mu = [data[:, i] for i in ind]\n",
    "\n",
    "    # Initialize U with random orthogonal matrix\n",
    "    I = np.identity(D)\n",
    "    U = [I[:, :d[i]] for i in range(n)]\n",
    "\n",
    "    W = np.zeros((n, N))\n",
    "    cond = True\n",
    "\n",
    "    i = 0\n",
    "\n",
    "    while cond:\n",
    "        W_prec = W\n",
    "        W = segmentation_step(U, mu, data, n)\n",
    "        mu, U, y = estimation_step(W, data, n, d)\n",
    "        cond = (True in (np.sum(np.abs(W - W_prec), 1) > 0)) and (i < n_iter)\n",
    "\n",
    "        i += 1\n",
    "        \n",
    "        if debug:\n",
    "            print '#iter: %d' % i\n",
    "\n",
    "    if pool:\n",
    "        return np.array([y, mu, U, W, obj_function(W, mu, U, data, n)])\n",
    "    else:\n",
    "        return y, mu, U, W, obj_function(W, mu, U, data, n)"
   ]
  },
  {
   "cell_type": "code",
   "execution_count": 5,
   "metadata": {
    "ExecuteTime": {
     "end_time": "2017-12-22T13:50:13.315902Z",
     "start_time": "2017-12-22T13:50:13.264256Z"
    },
    "code_folding": [],
    "collapsed": true
   },
   "outputs": [],
   "source": [
    "def ksubspaces(data, n, d, replicates, pool=False, debug=False):\n",
    "    D, N = data.shape\n",
    "    y_tot = []\n",
    "    U_tot = []\n",
    "    mu_tot = []\n",
    "    W_tot = []\n",
    "    obj_tot = []\n",
    "    \n",
    "    if pool:\n",
    "        p = mp.Pool(processes=mp.cpu_count())\n",
    "        p_list = [p.apply_async(do_one_rep, (data, D, N, n, d, True,))\n",
    "                  for _ in range(replicates)]\n",
    "        p_list = [i.get() for i in p_list]\n",
    "        p.close()\n",
    "        p.join()\n",
    "        \n",
    "        res = np.array(p_list).reshape(replicates, -1)\n",
    "        amin = np.argmin(res[:, -1])\n",
    "        \n",
    "        return res[amin, 1], res[amin, 2], res[amin, 3], res[amin, 0]\n",
    "    \n",
    "    for r in range(replicates):\n",
    "        y, mu, U, W, obj = do_one_rep(data, D, N, n, d, debug=debug)\n",
    "\n",
    "        y_tot.append(y)\n",
    "        mu_tot.append(mu)\n",
    "        U_tot.append(U)\n",
    "        W_tot.append(W)\n",
    "        obj_tot.append(obj)\n",
    "        \n",
    "        if debug:\n",
    "            print \"Replicate %d done\" % r\n",
    "        \n",
    "    sys.stdout.write('')\n",
    "    obj_amin = np.argmin(np.array(obj_tot))\n",
    "    \n",
    "    return mu_tot[obj_amin], U_tot[obj_amin], W_tot[obj_amin], y_tot[obj_amin]"
   ]
  },
  {
   "cell_type": "code",
   "execution_count": 141,
   "metadata": {
    "ExecuteTime": {
     "end_time": "2017-12-22T15:31:53.073839Z",
     "start_time": "2017-12-22T15:31:53.048309Z"
    },
    "code_folding": [],
    "collapsed": true
   },
   "outputs": [],
   "source": [
    "def ssc(data, n, tau, mu2, eps=2e-4, n_iter=1500):\n",
    "    def shrinkage(X, tau):\n",
    "        X = np.where((X<=tau)&(-tau<=X), 0, X)\n",
    "        X = np.where(X>tau, X-tau, X)\n",
    "        X = np.where(X<-tau, X+tau, X)\n",
    "        \n",
    "        return X\n",
    "        \n",
    "    D, N = data.shape\n",
    "    C = np.zeros((N, N))\n",
    "    Lambda = np.zeros((N, N))\n",
    "    X_tild = data.T.dot(data)\n",
    "    Z1 = np.linalg.inv(tau*X_tild + mu2*np.identity(N))\n",
    "    Z = np.ones((N, N))\n",
    "    undef = lambda x: np.isnan(x).any() or np.isinf(x).any()\n",
    "    \n",
    "    i = 0\n",
    "    \n",
    "    while np.max(np.abs(Z - C)) > eps and i < n_iter:\n",
    "        Z2 = tau*X_tild + mu2*(C - Lambda/mu2)\n",
    "        Z = Z1.dot(Z2)\n",
    "        C = shrinkage(Z + Lambda/mu2, 1.0/mu2)\n",
    "        C = C - np.diag(np.diag(C))\n",
    "        \n",
    "        Lambda = Lambda + mu2*(Z-C)\n",
    "        \n",
    "        if undef(Z) or undef(Lambda) or undef(C):\n",
    "            return None\n",
    "        \n",
    "        i += 1\n",
    "        \n",
    "    print '#iter: %d' % i\n",
    "        \n",
    "    if np.sum(np.abs(C)) == 0:\n",
    "        return None\n",
    "    \n",
    "    C = np.abs(C)\n",
    "    C = C / (np.linalg.norm(C, np.inf, axis=0) + 1e-4)\n",
    "    W = C + C.T\n",
    "    \n",
    "    return spectral_clustering(W, n, normalized=True)"
   ]
  },
  {
   "cell_type": "code",
   "execution_count": 7,
   "metadata": {
    "ExecuteTime": {
     "end_time": "2017-12-22T13:50:14.296401Z",
     "start_time": "2017-12-22T13:50:14.282188Z"
    },
    "code_folding": [],
    "collapsed": true
   },
   "outputs": [],
   "source": [
    "def clustering_error(label, groups):\n",
    "    def hungarian_method(label, groups, n):\n",
    "        C = np.zeros((n, n))\n",
    "        \n",
    "        for i in range(n):\n",
    "            la = label == i\n",
    "            n_la = np.sum(la)\n",
    "            \n",
    "            for j in range(n):\n",
    "                gr = groups == j\n",
    "                n_gr = np.sum(gr)\n",
    "                inter = np.sum(la & gr)\n",
    "                \n",
    "                C[i, j] = n_la + n_gr - 2*inter\n",
    "        \n",
    "        _, res = linear_sum_assignment(C)\n",
    "        return res\n",
    "    \n",
    "    n = np.max(label)\n",
    "    ind = hungarian_method(label-1, groups, n).reshape((-1,))\n",
    "    gr = np.zeros_like(groups)\n",
    "    \n",
    "    for i in range(n):\n",
    "        gr[groups == i] = ind[i]\n",
    "        \n",
    "    err = np.sum((label-1) != gr)\n",
    "    \n",
    "    return float(err)/label.size"
   ]
  },
  {
   "cell_type": "code",
   "execution_count": 8,
   "metadata": {
    "ExecuteTime": {
     "end_time": "2017-12-22T13:50:14.946591Z",
     "start_time": "2017-12-22T13:50:14.938620Z"
    },
    "collapsed": true
   },
   "outputs": [],
   "source": [
    "def clustering_error(labels, groups):\n",
    "    lbl = labels\n",
    "    m = max(np.max(lbl), np.max(groups)) + 1\n",
    "    w = np.bincount(lbl * m + groups, minlength=m*m)\n",
    "    w = w.reshape((m, m))\n",
    "    r, c = linear_sum_assignment(np.max(w) - w) # Kuhn-Munkres\n",
    "    return np.mean(c[lbl] != groups)"
   ]
  },
  {
   "cell_type": "markdown",
   "metadata": {},
   "source": [
    "# Face clustering"
   ]
  },
  {
   "cell_type": "markdown",
   "metadata": {},
   "source": [
    "## Grid-search [1-2]"
   ]
  },
  {
   "cell_type": "code",
   "execution_count": 84,
   "metadata": {
    "ExecuteTime": {
     "end_time": "2017-12-22T14:45:49.912795Z",
     "start_time": "2017-12-22T14:45:49.880751Z"
    },
    "collapsed": true
   },
   "outputs": [],
   "source": [
    "# 128 subjects; 48*42=2016 dimension\n",
    "\n",
    "mat = sio.loadmat('ExtendedYaleB.mat')\n",
    "labels = mat['EYALEB_LABEL'].reshape(-1)\n",
    "data_tmp = mat['EYALEB_DATA']\n",
    "data = np.c_[data_tmp[:, labels == 1], data_tmp[:, labels == 2]]\n",
    "labels = np.append(labels[labels == 1], labels[labels == 2])\n",
    "n = 2\n",
    "\n",
    "data = data.astype(float)"
   ]
  },
  {
   "cell_type": "markdown",
   "metadata": {},
   "source": [
    "### Spectral clustering"
   ]
  },
  {
   "cell_type": "code",
   "execution_count": 37,
   "metadata": {
    "ExecuteTime": {
     "end_time": "2017-12-22T11:04:30.265291Z",
     "start_time": "2017-12-22T11:04:13.298340Z"
    },
    "collapsed": false
   },
   "outputs": [
    {
     "name": "stdout",
     "output_type": "stream",
     "text": [
      "Optimal solution for SC: k=2, sigma=4.00e-01, err=0.01\n"
     ]
    }
   ],
   "source": [
    "l_sig = [.1*i for i in range(1, 20)]\n",
    "l_k = range(2, 12)\n",
    "l_err = []\n",
    "err_min = 1.01\n",
    "opt = None, None\n",
    "\n",
    "for k, sig in itertools.product(l_k, l_sig):\n",
    "    W = construct_affinity(data, sigma=sig, k=k)\n",
    "    groups = spectral_clustering(W, n)\n",
    "    \n",
    "    if groups is None:\n",
    "        continue\n",
    "    \n",
    "    err = clustering_error(labels, groups)\n",
    "    l_err.append(err)\n",
    "    \n",
    "    if err < err_min:\n",
    "        opt = k, sig\n",
    "        err_min = err\n",
    "    \n",
    "print 'Optimal solution for SC: k=%d, sigma=%.2e, err=%.2f' % (opt[0], opt[1], err_min)"
   ]
  },
  {
   "cell_type": "code",
   "execution_count": 47,
   "metadata": {
    "ExecuteTime": {
     "end_time": "2017-12-22T11:12:20.442573Z",
     "start_time": "2017-12-22T11:12:20.322596Z"
    },
    "collapsed": false
   },
   "outputs": [
    {
     "data": {
      "image/png": "[encoded data removed]",
      "text/plain": [
       "<matplotlib.figure.Figure at 0x7fd62885dc50>"
      ]
     },
     "metadata": {},
     "output_type": "display_data"
    }
   ],
   "source": [
    "from mpl_toolkits.mplot3d import Axes3D\n",
    "fig = plt.figure()\n",
    "prm = [item for item in itertools.product(l_k, l_sig)]\n",
    "k_l = [i[0] for i in prm]\n",
    "s_l = [i[1] for i in prm]\n",
    "ax = fig.gca(projection='3d')\n",
    "ax.scatter(k_l, s_l, l_err)\n",
    "ax.set_xlabel(r'$k$')\n",
    "ax.set_ylabel(r'$\\sigma$')\n",
    "ax.set_zlabel('Clustering error')\n",
    "plt.show()"
   ]
  },
  {
   "cell_type": "code",
   "execution_count": 34,
   "metadata": {
    "ExecuteTime": {
     "end_time": "2017-12-22T10:59:08.537948Z",
     "start_time": "2017-12-22T10:59:08.458398Z"
    },
    "collapsed": false
   },
   "outputs": [
    {
     "name": "stdout",
     "output_type": "stream",
     "text": [
      "0.0078125\n",
      "Prediction:\n",
      "[1 1 1 0 1 1 1 1 1 1 1 1 1 1 1 1 1 1 1 1 1 1 1 1 1 1 1 1 1 1 1 1 1 1 1 1 1\n",
      " 1 1 1 1 1 1 1 1 1 1 1 1 1 1 1 1 1 1 1 1 1 1 1 1 1 1 1 0 0 0 0 0 0 0 0 0 0\n",
      " 0 0 0 0 0 0 0 0 0 0 0 0 0 0 0 0 0 0 0 0 0 0 0 0 0 0 0 0 0 0 0 0 0 0 0 0 0\n",
      " 0 0 0 0 0 0 0 0 0 0 0 0 0 0 0 0 0]\n"
     ]
    }
   ],
   "source": [
    "W = construct_affinity(data, sigma=opt[1], k=opt[0])\n",
    "groups = spectral_clustering(W, n)\n",
    "print 'Prediction:'\n",
    "print groups"
   ]
  },
  {
   "cell_type": "markdown",
   "metadata": {},
   "source": [
    "### K-subspaces"
   ]
  },
  {
   "cell_type": "code",
   "execution_count": 23,
   "metadata": {
    "ExecuteTime": {
     "end_time": "2017-12-22T10:49:47.856602Z",
     "start_time": "2017-12-22T10:47:48.493859Z"
    },
    "collapsed": false
   },
   "outputs": [
    {
     "name": "stdout",
     "output_type": "stream",
     "text": [
      "Replicates 0 done\n",
      "Replicates 1 done\n",
      "Replicates 2 done\n",
      "Replicates 3 done\n",
      "Replicates 4 done\n",
      "Error rate for K-subspaces: 0.06\n"
     ]
    }
   ],
   "source": [
    "d = [3, 3]\n",
    "mu_k, U_k, w, y_k = ksubspaces(data, n, d, 5)\n",
    "groups = np.argmax(w, 0)\n",
    "\n",
    "err = clustering_error(labels, groups)\n",
    "print 'Error rate for K-subspaces: %.2f' % err"
   ]
  },
  {
   "cell_type": "code",
   "execution_count": 22,
   "metadata": {
    "ExecuteTime": {
     "end_time": "2017-12-21T17:40:14.017596Z",
     "start_time": "2017-12-21T17:40:14.007879Z"
    },
    "collapsed": false
   },
   "outputs": [
    {
     "name": "stdout",
     "output_type": "stream",
     "text": [
      "Predictions:\n",
      "[0 0 0 1 0 0 0 0 0 0 0 0 0 0 0 0 0 0 0 0 0 0 0 0 0 0 0 0 0 0 1 1 1 1 1 0 0\n",
      " 0 0 0 0 0 0 0 0 0 0 0 0 0 0 0 0 0 0 0 0 0 0 0 1 0 0 0 1 1 1 1 1 1 1 1 1 1\n",
      " 1 1 1 1 1 1 1 1 1 1 1 1 1 1 1 1 1 1 1 1 1 1 1 1 1 1 1 1 1 1 1 1 1 1 1 1 1\n",
      " 1 1 1 1 1 1 1 1 1 1 1 1 1 1 1 1 1]\n"
     ]
    }
   ],
   "source": [
    "print 'Predictions:'\n",
    "print groups"
   ]
  },
  {
   "cell_type": "markdown",
   "metadata": {},
   "source": [
    "### SSC"
   ]
  },
  {
   "cell_type": "code",
   "execution_count": 30,
   "metadata": {
    "ExecuteTime": {
     "end_time": "2017-12-22T10:54:30.635378Z",
     "start_time": "2017-12-22T10:54:30.514823Z"
    },
    "collapsed": false
   },
   "outputs": [
    {
     "name": "stdout",
     "output_type": "stream",
     "text": [
      "Optimal solution for SSC: tau=2.80e-05, mu=3.00e+03, err=0.02\n"
     ]
    }
   ],
   "source": [
    "err_min = 1.01\n",
    "opt = None, None, None\n",
    "\n",
    "l_tau = data.T.dot(data)\n",
    "l_tau = np.abs(l_tau - np.diag(np.diag(l_tau)))\n",
    "l_tau = np.min(np.max(l_tau, axis=1))\n",
    "tau_min = l_tau\n",
    "\n",
    "l_mu = np.array([25*i for i in range(1, 80)])\n",
    "l_tau = l_mu / l_tau\n",
    "\n",
    "l_tau = [2.8e-5]\n",
    "l_mu = [3000]\n",
    "\n",
    "for tau, mu in zip(l_tau, l_mu):\n",
    "    groups = ssc(data, n, tau, mu, eps=2e-4)\n",
    "    \n",
    "    if groups is None:\n",
    "        continue\n",
    "    \n",
    "    err = clustering_error(labels, groups)\n",
    "    \n",
    "    if err_min > err:\n",
    "        opt = tau, mu, groups\n",
    "        err_min = err\n",
    "    \n",
    "print 'Optimal solution for SSC: tau=%.2e, mu=%.2e, err=%.2f' % (opt[0], opt[1], err_min)"
   ]
  },
  {
   "cell_type": "code",
   "execution_count": 18,
   "metadata": {
    "ExecuteTime": {
     "end_time": "2017-12-21T18:23:50.978666Z",
     "start_time": "2017-12-21T18:23:50.973257Z"
    },
    "collapsed": false
   },
   "outputs": [
    {
     "name": "stdout",
     "output_type": "stream",
     "text": [
      "Predictions:\n",
      "[1 1 1 0 1 1 1 1 1 1 1 1 1 1 1 1 1 1 1 1 1 1 1 1 1 1 1 1 1 1 1 0 1 1 1 1 1\n",
      " 1 1 1 1 1 1 1 1 1 1 1 1 1 1 1 1 1 1 1 1 1 1 1 1 1 1 1 0 0 0 0 0 0 0 0 0 0\n",
      " 0 0 0 0 0 0 0 0 0 0 0 0 0 0 0 0 0 0 0 0 0 0 0 0 0 0 0 0 0 0 0 0 0 0 0 0 0\n",
      " 0 0 0 0 0 0 0 0 0 0 0 0 0 0 0 0 0]\n"
     ]
    }
   ],
   "source": [
    "print 'Predictions:'\n",
    "print opt[2]"
   ]
  },
  {
   "cell_type": "markdown",
   "metadata": {},
   "source": [
    "### Hyperparameters found"
   ]
  },
  {
   "cell_type": "code",
   "execution_count": 49,
   "metadata": {
    "ExecuteTime": {
     "end_time": "2017-12-22T14:30:05.517700Z",
     "start_time": "2017-12-22T14:30:05.509646Z"
    },
    "collapsed": true
   },
   "outputs": [],
   "source": [
    "p_sc = (2, 4e-1)\n",
    "p_ks = ([3, 3], 5)\n",
    "p_ssc = (3000, 2.8e-5)"
   ]
  },
  {
   "cell_type": "markdown",
   "metadata": {
    "collapsed": true
   },
   "source": [
    "## Other individuals (couple)"
   ]
  },
  {
   "cell_type": "markdown",
   "metadata": {},
   "source": [
    "### Spectral clustering"
   ]
  },
  {
   "cell_type": "code",
   "execution_count": 23,
   "metadata": {
    "ExecuteTime": {
     "end_time": "2017-12-22T12:53:34.780002Z",
     "start_time": "2017-12-22T12:53:34.225825Z"
    },
    "collapsed": false
   },
   "outputs": [
    {
     "name": "stdout",
     "output_type": "stream",
     "text": [
      "Error rate for SC [1-2]: 0.01\n",
      "Error rate for SC [1-10]: 0.49\n",
      "Error rate for SC [1-20]: 0.02\n",
      "Error rate for SC [1-30]: 0.48\n",
      "Error rate for SC [1-38]: 0.03\n",
      "-- Error: 0.21 +/- 0.45\n"
     ]
    }
   ],
   "source": [
    "k_opt, sigma_opt = p_sc\n",
    "l_err = np.array([])\n",
    "\n",
    "for j in [2, 10, 20, 30, 38]:\n",
    "    labels = mat['EYALEB_LABEL'].reshape(-1)\n",
    "    data = np.c_[data_tmp[:, labels == 1], data_tmp[:, labels == j]]\n",
    "    labels = np.append(labels[labels == 1], labels[labels == j])\n",
    "    labels[labels == j] = 2\n",
    "    n = 2\n",
    "    \n",
    "    data = data.astype(float)\n",
    "    W = construct_affinity(data, sigma=sigma_opt, k=k_opt)\n",
    "    groups = spectral_clustering(W, n)\n",
    "    err = clustering_error(labels, groups)\n",
    "    l_err = np.append(l_err, err)\n",
    "    print 'Error rate for SC [1-%d]: %.2f' % (j, err)\n",
    "\n",
    "print '-- Error: %.2f +/- %.2f' % (np.mean(l_err), 2*np.std(l_err))"
   ]
  },
  {
   "cell_type": "markdown",
   "metadata": {},
   "source": [
    "### K-subspaces"
   ]
  },
  {
   "cell_type": "code",
   "execution_count": 116,
   "metadata": {
    "ExecuteTime": {
     "end_time": "2017-12-20T23:13:47.940166Z",
     "start_time": "2017-12-20T22:56:54.227159Z"
    },
    "collapsed": false
   },
   "outputs": [
    {
     "name": "stdout",
     "output_type": "stream",
     "text": [
      "Error rate for K-subspaces [1-2]: 0.07\n",
      "Error rate for K-subspaces [1-10]: 0.30\n",
      "Error rate for K-subspaces [1-20]: 0.15\n",
      "Error rate for K-subspaces [1-30]: 0.25\n",
      "Error rate for K-subspaces [1-38]: 0.12\n",
      "-- Error: 0.18 +/- 0.17\n"
     ]
    }
   ],
   "source": [
    "d_opt, r_opt = p_ks\n",
    "l_err = np.array([])\n",
    "\n",
    "for j in [2, 10, 20, 30, 38]:\n",
    "    labels = mat['EYALEB_LABEL'].reshape(-1)\n",
    "    data = np.c_[data_tmp[:, labels == 1], data_tmp[:, labels == j]]\n",
    "    labels = np.append(labels[labels == 1], labels[labels == j])\n",
    "    labels[labels == j] = 2\n",
    "    n = 2\n",
    "\n",
    "    data = data.astype(float)\n",
    "    _, _, w, _ = ksubspaces(data, n, d_opt, r_opt)\n",
    "    groups = np.argmax(w, 0)\n",
    "    err = clustering_error(labels, groups)\n",
    "    l_err = np.append(l_err, err)\n",
    "    print 'Error rate for K-subspaces [1-%d]: %.2f' % (j, err)\n",
    "\n",
    "print '-- Error: %.2f +/- %.2f' % (np.mean(l_err), 2*np.std(l_err))"
   ]
  },
  {
   "cell_type": "markdown",
   "metadata": {},
   "source": [
    "### SSC"
   ]
  },
  {
   "cell_type": "code",
   "execution_count": 36,
   "metadata": {
    "ExecuteTime": {
     "end_time": "2017-12-21T16:24:52.471778Z",
     "start_time": "2017-12-21T16:24:51.960471Z"
    },
    "collapsed": false
   },
   "outputs": [
    {
     "name": "stdout",
     "output_type": "stream",
     "text": [
      "Error rate for SSC [1-2]: 0.02\n",
      "Error rate for SSC [1-10]: 0.28\n",
      "Error rate for SSC [1-20]: 0.17\n",
      "Error rate for SSC [1-30]: 0.23\n",
      "Error rate for SSC [1-38]: 0.11\n",
      "-- Error: 0.16 +/- 0.18\n"
     ]
    }
   ],
   "source": [
    "mu2_opt, tau_opt = p_ssc\n",
    "tau_n = tau_opt is None\n",
    "\n",
    "l_err = np.array([])\n",
    "\n",
    "for j in [2, 10, 20, 30, 38]:\n",
    "    labels = mat['EYALEB_LABEL'].reshape(-1)\n",
    "    data = np.c_[data_tmp[:, labels == 1], data_tmp[:, labels == j]]\n",
    "    labels = np.append(labels[labels == 1], labels[labels == j])\n",
    "    labels[labels == j] = 2\n",
    "    n = 2\n",
    "\n",
    "    data = data.astype(float)\n",
    "    \n",
    "    if tau_n:\n",
    "        tau_opt = data.T.dot(data)\n",
    "        tau_opt = np.abs(tau_opt - np.diag(np.diag(tau_opt)))\n",
    "        tau_opt = np.min(np.max(tau_opt, axis=1))\n",
    "        tau_opt = mu2_opt * 1.0 / tau_opt\n",
    "        \n",
    "    groups = ssc(data, n, tau_opt, mu2_opt, eps=2e-4)\n",
    "    err = clustering_error(labels, groups)\n",
    "    l_err = np.append(l_err, err)\n",
    "    print 'Error rate for SSC [1-%d]: %.2f' % (j, err)\n",
    "    \n",
    "print '-- Error: %.2f +/- %.2f' % (np.mean(l_err), 2*np.std(l_err))"
   ]
  },
  {
   "cell_type": "markdown",
   "metadata": {},
   "source": [
    "## Clustering error as a function of the number of groups"
   ]
  },
  {
   "cell_type": "markdown",
   "metadata": {},
   "source": [
    "### On a number of individuals"
   ]
  },
  {
   "cell_type": "code",
   "execution_count": 48,
   "metadata": {
    "ExecuteTime": {
     "end_time": "2017-12-22T11:12:59.351122Z",
     "start_time": "2017-12-22T11:12:53.137802Z"
    },
    "collapsed": false
   },
   "outputs": [
    {
     "name": "stdout",
     "output_type": "stream",
     "text": [
      "Spectral clustering error: 0.49\n",
      "SSC error: 0.53\n"
     ]
    }
   ],
   "source": [
    "labels_tmp = mat['EYALEB_LABEL'].reshape(-1)\n",
    "\n",
    "k_opt, sigma_opt = p_sc\n",
    "mu2_opt, tau_opt = p_ssc\n",
    "tau_n = tau_opt is None\n",
    "# TODO: change value for d_opt\n",
    "d_opt, r_opt = p_ks\n",
    "\n",
    "data = data_tmp[:, labels_tmp == 1]\n",
    "labels = labels_tmp[labels_tmp == 1]\n",
    "\n",
    "for l in range(2, 11):\n",
    "    data = np.c_[data, data_tmp[:, labels_tmp == l]]\n",
    "    data = data.astype(float)\n",
    "    labels = np.append(labels, labels_tmp[labels_tmp == l])\n",
    "    \n",
    "## K-subspaces\n",
    "## TODO: change value for d_opt\n",
    "#d_opt = [3] * l\n",
    "#_, _, w, _ = ksubspaces(data, l, d_opt, r_opt, debug=True)\n",
    "#groups = np.argmax(w, 0)\n",
    "#err = clustering_error(labels, groups)\n",
    "#print 'K-subspaces error: %.2f' % err\n",
    "    \n",
    "# Spectral clustering\n",
    "W = construct_affinity(data, sigma=sigma_opt, k=k_opt)\n",
    "groups = spectral_clustering(W, l)\n",
    "err = clustering_error(labels, groups)\n",
    "print 'Spectral clustering error: %.2f' % err\n",
    "\n",
    "# SSC\n",
    "if tau_n:\n",
    "    tau_opt = data.T.dot(data)\n",
    "    tau_opt = np.abs(tau_opt - np.diag(np.diag(tau_opt)))\n",
    "    tau_opt = np.min(np.max(tau_opt, axis=1))\n",
    "    tau_opt = mu2_opt * 1.0 / tau_opt\n",
    "\n",
    "groups = ssc(data, l, tau_opt, mu2_opt, eps=2e-4)\n",
    "err = clustering_error(labels, groups)\n",
    "print 'SSC error: %.2f' % err"
   ]
  },
  {
   "cell_type": "markdown",
   "metadata": {},
   "source": [
    "### Spectral clustering & SSC"
   ]
  },
  {
   "cell_type": "code",
   "execution_count": 111,
   "metadata": {
    "ExecuteTime": {
     "end_time": "2017-12-22T15:12:18.943220Z",
     "start_time": "2017-12-22T15:09:11.032260Z"
    },
    "collapsed": false
   },
   "outputs": [
    {
     "name": "stdout",
     "output_type": "stream",
     "text": [
      "Individuals 1-2 done\n",
      "Individuals 1-5 done\n",
      "Individuals 1-10 done\n",
      "Individuals 1-15 done\n",
      "Individuals 1-20 done\n",
      "Individuals 1-30 done\n"
     ]
    }
   ],
   "source": [
    "labels_tmp = mat['EYALEB_LABEL'].reshape(-1)\n",
    "# TODO: change value\n",
    "n_labels = 38\n",
    "\n",
    "k_opt, sigma_opt = p_sc\n",
    "mu2_opt, tau_opt = p_ssc\n",
    "tau_n = tau_opt is None\n",
    "\n",
    "n_algo = ['Spectral clustering', 'SSC']\n",
    "l_err = [np.array([])] * len(n_algo)\n",
    "data = data_tmp[:, labels_tmp == 1]\n",
    "labels = labels_tmp[labels_tmp == 1]\n",
    "\n",
    "l_ind = [2, 5, 10, 15, 20, 30]\n",
    "\n",
    "for l in range(2, n_labels+1):\n",
    "    data = np.c_[data, data_tmp[:, labels_tmp == l]]\n",
    "    data = data.astype(float)\n",
    "    labels = np.append(labels, labels_tmp[labels_tmp == l])\n",
    "    \n",
    "    if l not in l_ind:\n",
    "        continue\n",
    "    \n",
    "    # Spectral clustering\n",
    "    W = construct_affinity(data, sigma_opt, k_opt)\n",
    "    groups = spectral_clustering(W, l)\n",
    "    err = clustering_error(labels, groups)\n",
    "    l_err[0] = np.append(l_err[0], err)\n",
    "    \n",
    "    # SSC\n",
    "    if tau_n:\n",
    "        tau_opt = data.T.dot(data)\n",
    "        tau_opt = np.abs(tau_opt - np.diag(np.diag(tau_opt)))\n",
    "        tau_opt = np.min(np.max(tau_opt, axis=1))\n",
    "        tau_opt = mu2_opt * 1.0 / tau_opt\n",
    "        \n",
    "    groups = ssc(data, l, tau_opt, mu2_opt, eps=2e-4, n_iter=300)\n",
    "    err = clustering_error(labels, groups)\n",
    "    l_err[-1] = np.append(l_err[-1], err)\n",
    "    \n",
    "    print 'Individuals 1-%d done' % l"
   ]
  },
  {
   "cell_type": "code",
   "execution_count": 112,
   "metadata": {
    "ExecuteTime": {
     "end_time": "2017-12-22T15:15:15.972341Z",
     "start_time": "2017-12-22T15:15:15.891402Z"
    },
    "collapsed": false
   },
   "outputs": [
    {
     "data": {
      "image/png": "[encoded data removed]",
      "text/plain": [
       "<matplotlib.figure.Figure at 0x7f07cf4114d0>"
      ]
     },
     "metadata": {},
     "output_type": "display_data"
    }
   ],
   "source": [
    "plt.figure()\n",
    "\n",
    "for err, al in zip(l_err, n_algo):\n",
    "    #plt.plot(range(2, n_labels+1), err, 'o-', label=al)\n",
    "    plt.plot(l_ind, err, 'o-', label=al)\n",
    "    \n",
    "plt.xlabel('Number of groups')\n",
    "plt.ylabel('Error rate')\n",
    "plt.legend()\n",
    "plt.show()"
   ]
  },
  {
   "cell_type": "markdown",
   "metadata": {},
   "source": [
    "### Only K-subspaces"
   ]
  },
  {
   "cell_type": "code",
   "execution_count": null,
   "metadata": {
    "collapsed": true
   },
   "outputs": [],
   "source": [
    "labels_tmp = mat['EYALEB_LABEL'].reshape(-1)\n",
    "# TODO: change value\n",
    "n_labels = 20\n",
    "\n",
    "# TODO: change value for d_opt\n",
    "d_opt, r_opt = p_ks\n",
    "\n",
    "n_algo = ['K-subspaces']\n",
    "l_err = [np.array([])] * len(n_algo)\n",
    "data = data_tmp[:, labels_tmp == 1]\n",
    "labels = labels_tmp[labels_tmp == 1]\n",
    "\n",
    "for l in range(2, n_labels+1):\n",
    "    data = np.c_[data, data_tmp[:, labels_tmp == l]]\n",
    "    data = data.astype(float)\n",
    "    labels = np.append(labels, labels_tmp[labels_tmp == l])\n",
    "    \n",
    "    # K-subspaces\n",
    "    # TODO: change value for d_opt\n",
    "    d_opt = [3] * l\n",
    "    _, _, w, _ = ksubspaces(data, l, d_opt, r_opt)\n",
    "    groups = np.argmax(w, 0)\n",
    "    err = clustering_error(labels, groups)\n",
    "    l_err[0] = np.append(l_err[0], err)"
   ]
  },
  {
   "cell_type": "markdown",
   "metadata": {},
   "source": [
    "### All"
   ]
  },
  {
   "cell_type": "code",
   "execution_count": null,
   "metadata": {
    "ExecuteTime": {
     "end_time": "2017-12-22T15:19:44.097875Z",
     "start_time": "2017-12-22T15:19:42.289763Z"
    },
    "collapsed": true
   },
   "outputs": [],
   "source": [
    "labels_tmp = mat['EYALEB_LABEL'].reshape(-1)\n",
    "# TODO: change value\n",
    "n_labels = 38\n",
    "\n",
    "k_opt, sigma_opt = p_sc\n",
    "# TODO: change value for d_opt\n",
    "d_opt, r_opt = p_ks\n",
    "mu2_opt, tau_opt = p_ssc\n",
    "tau_n = tau_opt is None\n",
    "\n",
    "n_algo = ['Spectral clustering', 'K-subspaces', 'SSC']\n",
    "l_err = [np.array([])] * len(n_algo)\n",
    "data = data_tmp[:, labels_tmp == 1]\n",
    "labels = labels_tmp[labels_tmp == 1]\n",
    "\n",
    "for l in range(2, n_labels+1):\n",
    "    data = np.c_[data, data_tmp[:, labels_tmp == l]]\n",
    "    data = data.astype(float)\n",
    "    labels = np.append(labels, labels_tmp[labels_tmp == l])\n",
    "    \n",
    "    # Spectral clustering\n",
    "    W = construct_affinity(data, sigma=sigma_opt, k=k_opt)\n",
    "    groups = spectral_clustering(W, l)\n",
    "    err = clustering_error(labels, groups)\n",
    "    l_err[0] = np.append(l_err[0], err)\n",
    "    \n",
    "    # K-subspaces\n",
    "    # TODO: change value for d_opt\n",
    "    d_opt = [3] * l\n",
    "    _, _, w, _ = ksubspaces(data, l, d_opt, r_opt)\n",
    "    groups = np.argmax(w, 0)\n",
    "    err = clustering_error(labels, groups)\n",
    "    l_err[1] = np.append(l_err[1], err)\n",
    "    \n",
    "    # SSC\n",
    "    if tau_n:\n",
    "        tau_opt = data.T.dot(data)\n",
    "        tau_opt = np.abs(tau_opt - np.diag(np.diag(tau_opt)))\n",
    "        tau_opt = np.min(np.max(tau_opt, axis=1))\n",
    "        tau_opt = mu2_opt * 1.0 / tau_opt\n",
    "        \n",
    "    groups = ssc(data, l, tau_opt, mu2_opt, eps=2e-4)\n",
    "    err = clustering_error(labels, groups)\n",
    "    l_err[2] = np.append(l_err[2], err)"
   ]
  },
  {
   "cell_type": "markdown",
   "metadata": {},
   "source": [
    "# Motion segmentation"
   ]
  },
  {
   "cell_type": "code",
   "execution_count": 123,
   "metadata": {
    "ExecuteTime": {
     "end_time": "2017-12-22T15:19:46.715852Z",
     "start_time": "2017-12-22T15:19:46.706159Z"
    },
    "collapsed": true
   },
   "outputs": [],
   "source": [
    "def load_vid():\n",
    "    names = glob.glob('Hopkins155/*/*_truth.mat')\n",
    "    res = []\n",
    "    \n",
    "    for name in names:\n",
    "        data = sio.loadmat(name)\n",
    "        x = data['x']\n",
    "        lab = data['s']\n",
    "        n = np.max(lab)\n",
    "        N, F = x.shape[1:]\n",
    "        D = 2*F\n",
    "        x = np.transpose(x[:2, :, :], (0, 2, 1))\n",
    "        x = x.reshape(D, N, order='F')\n",
    "        res.append([x, lab])\n",
    "        \n",
    "    return res"
   ]
  },
  {
   "cell_type": "code",
   "execution_count": 145,
   "metadata": {
    "ExecuteTime": {
     "end_time": "2017-12-22T16:23:16.024385Z",
     "start_time": "2017-12-22T16:22:59.918522Z"
    },
    "collapsed": false
   },
   "outputs": [
    {
     "name": "stdout",
     "output_type": "stream",
     "text": [
      "SC error: 0.21 +/- 0.35; 0.22\n",
      "SSC error: nan +/- nan; nan\n"
     ]
    }
   ],
   "source": [
    "l_data = load_vid()\n",
    "l_err_sc = []\n",
    "l_err_ssc = []\n",
    "\n",
    "for data in l_data:\n",
    "    X, y = data\n",
    "    y = y.ravel()\n",
    "    n_groups = np.max(y)\n",
    "    \n",
    "    # SC\n",
    "    W = construct_affinity(X, sigma=1, k=8)\n",
    "    W_2 = construct_affinity_v2(X, sigma=1, k=8)\n",
    "    groups = spectral_clustering(W, n_groups)\n",
    "    err = clustering_error(y, groups)\n",
    "    l_err_sc.append(err)\n",
    "    \n",
    "    # SSC\n",
    "    #tau_min = X.T.dot(X)\n",
    "    #tau_min = np.abs(tau_min - np.diag(np.diag(tau_min)))\n",
    "    #tau_min = np.min(np.max(tau_min, axis=1))\n",
    "    #\n",
    "    #tau_opt = 10*tau_min\n",
    "    #mu_opt = 1.0/5/tau_opt\n",
    "    #\n",
    "    #groups = ssc(X, n_groups, tau_opt, mu_opt, eps=2e-4, n_iter=300)\n",
    "    #err = clustering_error(y, groups)\n",
    "    #l_err_ssc.append(err)\n",
    "\n",
    "print 'SC error: %.2f +/- %.2f; %.2f' % (np.mean(l_err_sc), 2*np.std(l_err_sc), np.median(l_err_sc))\n",
    "print 'SSC error: %.2f +/- %.2f; %.2f' % (np.mean(l_err_ssc), 2*np.std(l_err_ssc), np.median(l_err_ssc))"
   ]
  }
 ],
 "metadata": {
  "kernelspec": {
   "display_name": "Python [default]",
   "language": "python",
   "name": "python2"
  },
  "language_info": {
   "codemirror_mode": {
    "name": "ipython",
    "version": 2
   },
   "file_extension": ".py",
   "mimetype": "text/x-python",
   "name": "python",
   "nbconvert_exporter": "python",
   "pygments_lexer": "ipython2",
   "version": "2.7.13"
  },
  "toc": {
   "nav_menu": {},
   "number_sections": true,
   "sideBar": true,
   "skip_h1_title": false,
   "toc_cell": false,
   "toc_position": {
    "height": "797px",
    "left": "0px",
    "right": "1068px",
    "top": "110px",
    "width": "212px"
   },
   "toc_section_display": "block",
   "toc_window_display": true
  }
 },
 "nbformat": 4,
 "nbformat_minor": 2
}
