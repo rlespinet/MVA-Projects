{
 "cells": [
  {
   "cell_type": "code",
   "execution_count": 1,
   "metadata": {
    "collapsed": false
   },
   "outputs": [],
   "source": [
    "import matplotlib\n",
    "import matplotlib.pyplot as plt\n",
    "\n",
    "from sklearn.preprocessing import normalize\n",
    "from sklearn.cluster import KMeans\n",
    "\n",
    "import scipy\n",
    "import numpy as np\n",
    "\n",
    "import math\n",
    "\n",
    "%matplotlib inline\n",
    "%load_ext line_profiler"
   ]
  },
  {
   "cell_type": "markdown",
   "metadata": {},
   "source": [
    "#### k-NN affinity matrix"
   ]
  },
  {
   "cell_type": "code",
   "execution_count": 269,
   "metadata": {
    "collapsed": false
   },
   "outputs": [],
   "source": [
    "def k_nearest(X, k):\n",
    "    N, D = X.shape\n",
    "    \n",
    "    X = X.astype(np.float32)\n",
    "    \n",
    "    if k > N:\n",
    "        k = N\n",
    "    \n",
    "    W = np.zeros((N,N))\n",
    "    \n",
    "    for i in range(N):\n",
    "        for j in range(i, N):\n",
    "            xi = normalize(X[i].reshape(1, -1)).ravel()\n",
    "            xj = normalize(X[j].reshape(1, -1)).ravel()\n",
    "            W[(i,j),(j,i)] = np.inner(xi - xj, xi - xj)\n",
    "        W[i, np.argsort(W[i])[k+1:]] = 0\n",
    "    \n",
    "    return W\n",
    "\n",
    "def gaus_affinity(X, k, sigma):\n",
    "    W = k_nearest(X, k)\n",
    "    W = np.where(W != 0, np.exp(-W/(2*(sigma**2))), 0)\n",
    "    return W + W.T\n",
    "\n",
    "\n",
    "## Remi's gaussian affinity\n",
    "from sklearn.neighbors import NearestNeighbors\n",
    "def gaussian_knn_affinity(X, k, sqsigma):\n",
    "    nbrs = NearestNeighbors(n_neighbors=k+1, algorithm='brute', metric='sqeuclidean').fit(X)\n",
    "    W = nbrs.kneighbors_graph(X, mode='distance').toarray()\n",
    "    W[W.nonzero()] = np.exp(- W[W.nonzero()] / (2 * sqsigma))\n",
    "    W = W + W.T\n",
    "    return W"
   ]
  },
  {
   "cell_type": "markdown",
   "metadata": {},
   "source": [
    "## 1. Clustering Algorithms"
   ]
  },
  {
   "cell_type": "markdown",
   "metadata": {},
   "source": [
    "#### SpectralClustering"
   ]
  },
  {
   "cell_type": "code",
   "execution_count": 3,
   "metadata": {
    "collapsed": true
   },
   "outputs": [],
   "source": [
    "def spectralClustering(W, n):\n",
    "    N, _ = W.shape\n",
    "    \n",
    "    D = np.diag(W.dot(np.ones((N,1))).ravel())\n",
    "    L = D - W\n",
    "    _, V = np.linalg.eigh(L)\n",
    "\n",
    "    Y = V[:, :n]\n",
    "          \n",
    "    kmeans = KMeans(n_clusters=n, random_state=0).fit(Y)\n",
    "    \n",
    "    return kmeans.labels_"
   ]
  },
  {
   "cell_type": "markdown",
   "metadata": {},
   "source": [
    "#### K-Subspaces"
   ]
  },
  {
   "cell_type": "markdown",
   "metadata": {},
   "source": [
    "#### unoptimize code"
   ]
  },
  {
   "cell_type": "code",
   "execution_count": 353,
   "metadata": {
    "collapsed": true
   },
   "outputs": [],
   "source": [
    "def segment(U, x, mu):\n",
    "    D, _ = U.shape\n",
    "    I = np.identity(D)\n",
    "    \n",
    "    return np.linalg.norm((I - U.dot(U.T)).dot(x - mu))\n",
    "\n",
    "\n",
    "#         W = np.zeros((k, N), dtype=np.int8)\n",
    "        \n",
    "#         # TODO: improve this part\n",
    "#         # 3 . segmentation\n",
    "#         for j in range(N):\n",
    "            \n",
    "            \n",
    "#             idx = 0\n",
    "#             best_segment = math.inf\n",
    "#             for i in range(k):\n",
    "#                 temp = segment(U[:,:,i], X[j], mu[:,i])\n",
    "#                 if temp <= best_segment:\n",
    "#                     best_segment = temp\n",
    "#                     idx = i\n",
    "#             W[idx,j] = 1  "
   ]
  },
  {
   "cell_type": "markdown",
   "metadata": {},
   "source": [
    "Still unoptimized code as einsum on tensors takes a long amount of time. See Rémi Lespinet implementation for a fast implementation"
   ]
  },
  {
   "cell_type": "code",
   "execution_count": 4,
   "metadata": {
    "collapsed": false
   },
   "outputs": [],
   "source": [
    "def ortho(D, d, k):\n",
    "    U = np.random.randn(D, d, k)\n",
    "    \n",
    "    # normalize\n",
    "    for i in range(k):\n",
    "        U[:,:,i] = scipy.linalg.orth(U[:,:,i])\n",
    "    \n",
    "    return U\n",
    "\n",
    "\n",
    "def segment2(U, x, mu):\n",
    "    D, _, _ = U.shape\n",
    "    I = np.identity(D)\n",
    "    \n",
    "    toto = np.transpose(x[:,:, None]-mu, (0,2,1))\n",
    "    tata = I - np.einsum('ijk,ljk->kil', U, U)\n",
    "    guru = np.einsum('ijk,lik->lij', tata, toto)\n",
    "    ninja = np.einsum('ijk,ijk->ij', guru, guru)\n",
    "\n",
    "    W = np.where(ninja.T == np.min(ninja, axis=1), 1, 0)\n",
    "    \n",
    "    return W  \n",
    "\n",
    "\n",
    "def kSubspaces(X, k, d, replicates=10):\n",
    "    N, D = X.shape\n",
    "    \n",
    "    projections = np.zeros(replicates)\n",
    "    bestGroup = np.zeros(replicates)\n",
    "    I = np.identity(D)\n",
    "    \n",
    "    for rep in range(replicates):\n",
    "        U = ortho(D, d, k)    \n",
    "        mu = np.random.randn(D, k)\n",
    "\n",
    "        y = np.zeros((d, N))\n",
    "\n",
    "        # CHANGE ending condition\n",
    "        for m in range(100):\n",
    "            # 3 . segmentation\n",
    "            W = segment2(U, X, mu)\n",
    "\n",
    "            # 4. estimation\n",
    "            for i in range(k):\n",
    "                if np.sum(W[i,:]) > 0:\n",
    "                    mu[:,i] = np.sum(np.multiply(W[i,:].reshape(N,1),X), axis=0)/np.sum(W[i,:])\n",
    "                    center_data = X - mu[:,i]\n",
    "                    Sigma = np.einsum('ij,ik, i->jk', center_data, center_data, W[i,:])\n",
    "                    _, U_ = np.linalg.eigh(Sigma)\n",
    "                    U[:,:, i] = U_[:,:d]\n",
    "\n",
    "                for j in range(N):\n",
    "                    if W[i,j] == 1:\n",
    "                        y[:,j] = U[:,:,i].T.dot(X[j] - mu[:,i])\n",
    "                \n",
    "            \n",
    "                    dist = (I - U[:,:, i].dot(U[:,:, i].T)).dot(X[j] - mu[:,i])\n",
    "                    projections[rep] += W[i, j] * np.inner(dist, dist)\n",
    "        bestGroup[rep] = np.argmax(W, axis=1)\n",
    "    \n",
    "    return bestGroup[np.argmin(projections)]"
   ]
  },
  {
   "cell_type": "markdown",
   "metadata": {},
   "source": [
    "#### Sparse Subspace Clustering"
   ]
  },
  {
   "cell_type": "code",
   "execution_count": 58,
   "metadata": {
    "collapsed": false
   },
   "outputs": [],
   "source": [
    "# https://arxiv.org/pdf/1203.1005.pdf\n",
    "\n",
    "def shrinked_thresholding(X, tau):\n",
    "    return np.sign(X) * np.maximum(np.absolute(X)-tau,0)\n",
    "\n",
    "def lasso_admm(X, tau, mu, max_iter=300, eps_precision=2e-4):\n",
    "    D, N = X.shape\n",
    "    C = np.zeros((N,N))\n",
    "    delta =np.zeros((N,N))\n",
    "    I = np.identity(N)\n",
    "    \n",
    "    U = np.linalg.inv((tau * X.T.dot(X) + mu * I))\n",
    "    V = X.T.dot(X)\n",
    "    \n",
    "    i = 0\n",
    "    \n",
    "    while i < max_iter:\n",
    "        Z = U.dot(tau * V + mu * (C - delta/mu))\n",
    "        \n",
    "        C = shrinked_thresholding(Z + delta/mu, 1/mu)\n",
    "        \n",
    "        C = C - np.diag(np.diag(C))\n",
    "        delta = delta + mu * (Z - C)\n",
    "        \n",
    "        if np.linalg.norm(np.absolute(Z-C), np.inf) < eps_precision:\n",
    "            break\n",
    "        \n",
    "        i += 1\n",
    "    \n",
    "    return C\n",
    "\n",
    "def normalized_sc(W, n):\n",
    "    N, _ = W.shape\n",
    "    \n",
    "    # construct G\n",
    "    D = np.diag(W.dot(np.ones((N,1))).ravel())\n",
    "    L = D - W\n",
    "    D12 = np.where(D != 0, (D+1e-16)**(-1/2), D)\n",
    "    \n",
    "    _, V = np.linalg.eigh(D12.dot(L.dot(D12)))\n",
    "\n",
    "    Y = V[:, :n]\n",
    "    \n",
    "    kmeans = KMeans(n_clusters=n, random_state=0).fit(Y)\n",
    "    \n",
    "    return kmeans.labels_\n",
    "\n",
    "def ssc(X, k, tau, mu):\n",
    "    D, N = X.shape\n",
    "    C = lasso_admm(X, tau, mu)\n",
    "    \n",
    "    # normalize the columns using Algorithm 1 from\n",
    "    # https://arxiv.org/pdf/1203.1005.pdf\n",
    "    C = C / np.linalg.norm(C, np.inf, axis=0)\n",
    "    \n",
    "    W = np.absolute(C) + np.absolute(C).T\n",
    "    \n",
    "    group = normalized_sc(W, k)\n",
    "    return group"
   ]
  },
  {
   "cell_type": "markdown",
   "metadata": {},
   "source": [
    "#### Sparse Spectral Clustering with outliers"
   ]
  },
  {
   "cell_type": "code",
   "execution_count": 254,
   "metadata": {
    "collapsed": true
   },
   "outputs": [],
   "source": [
    "def lasso_admm_corrupt(X, tau, mu1, mu2, max_iter=100, eps_precision=2e-4):\n",
    "    D, N = X.shape\n",
    "    C = np.zeros((N, N))\n",
    "    E = np.zeros((D, N))\n",
    "    delta1 = np.zeros((D,N))\n",
    "    delta2 = np.zeros((N,N))\n",
    "    I = np.identity(N)\n",
    "    \n",
    "    U = np.linalg.inv((mu1 * X.T.dot(X) + mu2 * I))\n",
    "    \n",
    "    i = 0\n",
    "    \n",
    "    while i < max_iter:\n",
    "        Z = U.dot(mu1 * X.T.dot(X - E + delta1/mu1) + mu2 * (C - delta2/mu2))\n",
    "        \n",
    "        C = shrinked_thresholding(Z + delta2/mu2, 1/mu2)\n",
    "        \n",
    "        C = C - np.diag(np.diag(C))\n",
    "        \n",
    "        E = shrinked_thresholding(X - X.dot(Z) + delta1/mu1, tau/mu2)\n",
    "        \n",
    "        delta1 = delta1 + mu1 * (X - X.dot(Z) - E)\n",
    "        delta2 = delta2 +  mu2 * (Z - C)\n",
    "        \n",
    "        print(i, np.linalg.norm(np.absolute(Z-C), np.inf))\n",
    "        \n",
    "        if np.linalg.norm(np.absolute(Z-C), np.inf) < eps_precision:\n",
    "            break\n",
    "        \n",
    "        i += 1\n",
    "    \n",
    "    return C\n",
    "\n",
    "def ssc_corrupt(X, k, tau, mu1, mu2, max_iter=100):\n",
    "    D, N = X.shape\n",
    "    C = lasso_admm_corrupt(X, tau, mu1, mu2, max_iter=max_iter)\n",
    "    \n",
    "    # normalize the columns using Algorithm 1 from\n",
    "    # https://arxiv.org/pdf/1203.1005.pdf\n",
    "    C = C / np.linalg.norm(C, np.inf, axis=0)\n",
    "    \n",
    "    W = np.absolute(C) + np.absolute(C).T\n",
    "    \n",
    "    group = normalized_sc(W, k)\n",
    "    return group"
   ]
  },
  {
   "cell_type": "markdown",
   "metadata": {},
   "source": [
    "#### We use relation (14) from https://arxiv.org/pdf/1203.1005.pdf to compute a suitable value of $\\tau$"
   ]
  },
  {
   "cell_type": "markdown",
   "metadata": {},
   "source": [
    "__getTau__ returns the minimal value of $\\tau$: $\\tau_{min} = \\frac{1}{\\min\\limits_{i} \\max\\limits_{j \\neq i} | y_i^Ty_j|}$"
   ]
  },
  {
   "cell_type": "code",
   "execution_count": 276,
   "metadata": {
    "collapsed": false
   },
   "outputs": [],
   "source": [
    "def getTau(X):\n",
    "    M = np.dot(X, X.T)\n",
    "    M = M - np.diag(np.diag(M))\n",
    "    return 1/min(np.max(M, axis = 1))\n",
    "\n",
    "def getTauCorrupt(X):\n",
    "    return 1/np.sort(np.linalg.norm(X, axis=1, ord=1))[-2]"
   ]
  },
  {
   "cell_type": "markdown",
   "metadata": {},
   "source": [
    "#### Clustering error function"
   ]
  },
  {
   "cell_type": "code",
   "execution_count": 60,
   "metadata": {
    "collapsed": true
   },
   "outputs": [],
   "source": [
    "from scipy.optimize import linear_sum_assignment"
   ]
  },
  {
   "cell_type": "code",
   "execution_count": 61,
   "metadata": {
    "collapsed": true
   },
   "outputs": [],
   "source": [
    "def clustering_error(true_label, pred_label):\n",
    "    unique_true_label = np.unique(true_label)\n",
    "    unique_pred_label = np.unique(pred_label)\n",
    "    \n",
    "    W = np.zeros((len(unique_true_label), len(unique_pred_label)), dtype=int)\n",
    "\n",
    "    for k, l in enumerate(unique_true_label):\n",
    "        idx = np.where(true_label == l)[0]\n",
    "        values, counts = np.unique(pred_label[idx], return_counts=True)\n",
    "    \n",
    "        for i, v in enumerate(values):\n",
    "            W[k, v] = counts[i]\n",
    "    \n",
    "    row_ind, col_ind = linear_sum_assignment(-W)\n",
    "    _, sorted_col_idx = zip(*sorted(zip(col_ind, row_ind)))\n",
    "    \n",
    "    best_match = np.zeros_like(pred_label)\n",
    "    for i in range(len(unique_pred_label)):\n",
    "        best_match[pred_label == unique_pred_label[[i]]] = unique_true_label[sorted_col_idx[i]]\n",
    "    \n",
    "    # return percentage of error\n",
    "    return np.sum(true_label != best_match)/len(true_label)"
   ]
  },
  {
   "cell_type": "markdown",
   "metadata": {},
   "source": [
    "## 2. Face Clustering"
   ]
  },
  {
   "cell_type": "code",
   "execution_count": 62,
   "metadata": {
    "collapsed": true
   },
   "outputs": [],
   "source": [
    "import scipy.io"
   ]
  },
  {
   "cell_type": "markdown",
   "metadata": {},
   "source": [
    "#### load and understand the datas"
   ]
  },
  {
   "cell_type": "code",
   "execution_count": 63,
   "metadata": {
    "collapsed": false
   },
   "outputs": [],
   "source": [
    "extendedYaleB = scipy.io.loadmat('ExtendedYaleB.mat')\n",
    "EYALEB_DATA = extendedYaleB['EYALEB_DATA']\n",
    "EYALEB_LABEL = extendedYaleB['EYALEB_LABEL']"
   ]
  },
  {
   "cell_type": "markdown",
   "metadata": {},
   "source": [
    "#### display a single image"
   ]
  },
  {
   "cell_type": "code",
   "execution_count": 64,
   "metadata": {
    "collapsed": false
   },
   "outputs": [
    {
     "data": {
      "text/plain": [
       "<matplotlib.image.AxesImage at 0x2aba107d240>"
      ]
     },
     "execution_count": 64,
     "metadata": {},
     "output_type": "execute_result"
    },
    {
     "data": {
      "image/png": "[encoded data removed]",
      "text/plain": [
       "<matplotlib.figure.Figure at 0x2aba07abc50>"
      ]
     },
     "metadata": {},
     "output_type": "display_data"
    }
   ],
   "source": [
    "idx = 0\n",
    "plt.imshow(EYALEB_DATA[:,idx].reshape(42,48).T, cmap='gray')"
   ]
  },
  {
   "cell_type": "markdown",
   "metadata": {},
   "source": [
    "#### individuals 1-2"
   ]
  },
  {
   "cell_type": "code",
   "execution_count": 66,
   "metadata": {
    "collapsed": false
   },
   "outputs": [],
   "source": [
    "mask_ind12, = np.where(np.logical_or(extendedYaleB['EYALEB_LABEL'][0,:] == 1,\n",
    "              extendedYaleB['EYALEB_LABEL'][0,:] == 2) == True)"
   ]
  },
  {
   "cell_type": "code",
   "execution_count": 67,
   "metadata": {
    "collapsed": true
   },
   "outputs": [],
   "source": [
    "ind12_data = extendedYaleB['EYALEB_DATA'][:,mask_ind12].astype(int)\n",
    "ind12_labels = extendedYaleB['EYALEB_LABEL'][:,mask_ind12].reshape(-1)"
   ]
  },
  {
   "cell_type": "markdown",
   "metadata": {},
   "source": [
    "#### Spectral Clustering individuals 1-2\n",
    "Tuning the $k$ and $\\sigma$ parameter using __individuals 1-2__ from ExtendedYaleB dataset"
   ]
  },
  {
   "cell_type": "code",
   "execution_count": 313,
   "metadata": {
    "collapsed": false
   },
   "outputs": [
    {
     "name": "stdout",
     "output_type": "stream",
     "text": [
      "clustering error:  0.0078125\n"
     ]
    }
   ],
   "source": [
    "# k = 2, sigma = 0.4\n",
    "Aff = gaus_affinity(ind12_data.T, 2, 0.4)\n",
    "pred_labels12 = spectralClustering(Aff, 2)\n",
    "print(\"clustering error: \", clustering_error(ind12_labels, pred_labels12))"
   ]
  },
  {
   "cell_type": "markdown",
   "metadata": {},
   "source": [
    "#### fix $\\sigma = 1$"
   ]
  },
  {
   "cell_type": "code",
   "execution_count": 103,
   "metadata": {
    "collapsed": false,
    "scrolled": false
   },
   "outputs": [
    {
     "data": {
      "text/plain": [
       "<matplotlib.text.Text at 0x2aba4fa5208>"
      ]
     },
     "execution_count": 103,
     "metadata": {},
     "output_type": "execute_result"
    },
    {
     "data": {
      "image/png": "[encoded data removed]",
      "text/plain": [
       "<matplotlib.figure.Figure at 0x2abb93b6908>"
      ]
     },
     "metadata": {},
     "output_type": "display_data"
    }
   ],
   "source": [
    "error = []\n",
    "\n",
    "ks = np.arange(len(ind12_labels)) + 1\n",
    "for k in ks:\n",
    "    Aff = gaus_affinity(ind12_data.T, k, 1)\n",
    "    pred_labels12 = spectralClustering(Aff, 2)\n",
    "    error.append(clustering_error(ind12_labels, pred_labels12))\n",
    "\n",
    "plt.figure(figsize=(20,15))\n",
    "plt.plot(ks, error, '-oc')\n",
    "plt.xlabel(\"Number of neighbors: k\", size=18)\n",
    "plt.ylabel(\"Clustering error\", size=18)\n",
    "plt.title(r'Clustering error function of the number of k-NN for $\\sigma = 1$', size=22)\n",
    "txt = \"Best value: {}, k = {}\".format(min(error), ks[np.argmin(error)])\n",
    "plt.text(5,0.012, txt, size=18)"
   ]
  },
  {
   "cell_type": "markdown",
   "metadata": {},
   "source": [
    "#### Use the best k ($k=3$) and tune $\\sigma$ parameter"
   ]
  },
  {
   "cell_type": "code",
   "execution_count": 120,
   "metadata": {
    "collapsed": false
   },
   "outputs": [
    {
     "data": {
      "text/plain": [
       "<matplotlib.text.Text at 0x2abb9df2240>"
      ]
     },
     "execution_count": 120,
     "metadata": {},
     "output_type": "execute_result"
    },
    {
     "data": {
      "image/png": "[encoded data removed]",
      "text/plain": [
       "<matplotlib.figure.Figure at 0x2abbd719048>"
      ]
     },
     "metadata": {},
     "output_type": "display_data"
    }
   ],
   "source": [
    "error = []\n",
    "sigmas = np.linspace(0.001, 10, 100)\n",
    "for sig in sigmas:\n",
    "    Aff = gaus_affinity(ind12_data.T, 3, sig)\n",
    "    pred_labels12 = spectralClustering(Aff, 2)\n",
    "    error.append(clustering_error(ind12_labels, pred_labels12))\n",
    "\n",
    "plt.figure(figsize=(20,15))\n",
    "plt.plot(sigmas, error, '-oc')\n",
    "plt.xlabel(r'value of $\\sigma$', size=18)\n",
    "plt.ylabel(\"Clustering error\", size=18)\n",
    "plt.title(r'Clustering error function of $\\sigma$ for $k = 1$', size=22)\n",
    "txt = r'Best value: {:2f}, $\\sigma = {:2f}$'.format(min(error), sigmas[np.argmin(error)])\n",
    "plt.text(1.5,0.012, txt, size=18)"
   ]
  },
  {
   "cell_type": "markdown",
   "metadata": {},
   "source": [
    "## Spectral Clustering best value: $\\sigma = 0.3, k=3$"
   ]
  },
  {
   "cell_type": "markdown",
   "metadata": {},
   "source": [
    "#### SSC individuals 1-2"
   ]
  },
  {
   "cell_type": "code",
   "execution_count": 141,
   "metadata": {
    "collapsed": false
   },
   "outputs": [],
   "source": [
    "tau_min = 10 * getTau(ind12_data.T)"
   ]
  },
  {
   "cell_type": "code",
   "execution_count": 139,
   "metadata": {
    "collapsed": false
   },
   "outputs": [
    {
     "data": {
      "image/png": "[encoded data removed]",
      "text/plain": [
       "<matplotlib.figure.Figure at 0x2aba475a6d8>"
      ]
     },
     "metadata": {},
     "output_type": "display_data"
    }
   ],
   "source": [
    "l = []\n",
    "mu2s = np.logspace(1, 6, num=100)\n",
    "for mu2 in mu2s:\n",
    "    pred_labels12_ssc = ssc(ind12_data, 2, tau_min, mu2)\n",
    "    l.append(clustering_error(ind12_labels, pred_labels12_ssc))\n",
    "\n",
    "plt.figure(figsize=(20,15))\n",
    "plt.plot(mu2s, l, '-co')\n",
    "plt.ylabel('clustering error', size=18)\n",
    "plt.xlabel(r'$\\mu_2$', size=18)\n",
    "plt.title(r'Clustering error for SSC function of $\\mu_2$')\n",
    "txt = r'Best value: %.3f, $\\mu_2 = %d$, $\\tau = %.3e$' % (min(l), mu2s[np.argmin(l)], tau_min)\n",
    "plt.text(8,0.012, txt, size=18)\n",
    "plt.xscale('log')"
   ]
  },
  {
   "cell_type": "markdown",
   "metadata": {},
   "source": [
    "## SSC best value: $\\mu_2 = 27185$, $\\tau = 3.015e-5$"
   ]
  },
  {
   "cell_type": "markdown",
   "metadata": {},
   "source": [
    "### Best parameters"
   ]
  },
  {
   "cell_type": "markdown",
   "metadata": {},
   "source": [
    "+ Spectral Clustering: $k = 3$, $\\sigma = 0.3$\n",
    "+ k-Subspaces: See mates\n",
    "+ SSC : $\\tau$ = _10 * getTau(data.T)_ and $\\mu_2 = 27185$"
   ]
  },
  {
   "cell_type": "markdown",
   "metadata": {},
   "source": [
    "### Remi k-Subspaces"
   ]
  },
  {
   "cell_type": "code",
   "execution_count": 322,
   "metadata": {
    "collapsed": true
   },
   "outputs": [],
   "source": [
    "from sklearn.utils.extmath import randomized_svd\n",
    "from scipy.linalg import qr\n",
    "\n",
    "class Ksubspaces_v1:\n",
    "\n",
    "    def ortho_matrix(self, D, d):\n",
    "#         H = np.random.randn(D, D)\n",
    "#         Q, R = qr(H)\n",
    "#         return Q[:, :d]\n",
    "        return np.linalg.svd(np.random.randn(D, d), False)[0]\n",
    "\n",
    "    \n",
    "        \n",
    "    def init_naive(self, X, n):\n",
    "        N, D = X.shape\n",
    "        P = X[np.random.choice(N, n, False)]\n",
    "        return P\n",
    "    \n",
    "    # Gaussian initialization\n",
    "    def init_gaussian(self, X, n):\n",
    "        \n",
    "        mu = np.mean(X, axis=0)\n",
    "        sigma = np.cov(X.T)\n",
    "        P = np.random.multivariate_normal(mu, sigma, n)\n",
    "        \n",
    "        return P\n",
    "    \n",
    "    # Kmeans++ initialization\n",
    "    def init_kmeanspp(self, X, n):\n",
    "        (N, d) = X.shape\n",
    "        P = np.empty((n, d))\n",
    "        P[0] = X[np.random.randint(0, N)]\n",
    "\n",
    "        D = math.inf * np.ones(N)\n",
    "\n",
    "        for i in range(n - 1):\n",
    "            T = X - P[i]\n",
    "            D = np.minimum(D, np.sum(T * T, axis=1))\n",
    "\n",
    "            W = D.cumsum()\n",
    "\n",
    "            z = np.random.uniform(0, W[-1])\n",
    "            j = np.searchsorted(W > z, True)\n",
    "            P[i + 1] = X[j]\n",
    "\n",
    "        return P\n",
    "    \n",
    "    \n",
    "    \n",
    "    def __init__(self, X, d, max_iter=100, restarts=1):\n",
    "        \n",
    "        H_best = math.inf\n",
    "        for i in range(restarts):\n",
    "            (mu, U, Y, H, n_iter) = self.run(X, d, max_iter)\n",
    "            if (H < H_best):\n",
    "                H_best = H\n",
    "                self.mu = mu\n",
    "                self.U = U\n",
    "                self.Y = Y\n",
    "                self.H = H\n",
    "                self.n_iter = i\n",
    "\n",
    "    def _assign(self, X, mu, U, d):\n",
    "        N, D = X.shape\n",
    "\n",
    "        W = np.empty((len(d), N))\n",
    "        for i in range(len(d)):\n",
    "            \n",
    "            Xc = X - mu[i]\n",
    "            R = Xc - np.dot(np.dot(Xc, U[i]), U[i].T)\n",
    "            W[i] = np.sum(R * R, axis=-1)\n",
    "                        \n",
    "        Y = np.argmin(W, axis=0)\n",
    "        J = np.sum(np.min(W, axis=0))\n",
    "            \n",
    "        return (Y, J)\n",
    "        \n",
    "    def run(self, X, d, max_iter=100):\n",
    "        N, D = X.shape\n",
    "\n",
    "        #Initialization\n",
    "        U = [self.ortho_matrix(D, di) for di in d]\n",
    "#         U  = [np.linalg.svd(np.random.randn(D, di), False)[0] for di in d]\n",
    "        mu = self.init_naive(X, len(d))\n",
    "        #mu = self.init_gaussian(X, len(d))\n",
    "\n",
    "        for i in range(max_iter):\n",
    "            # Segmentation\n",
    "            (Y, J) = self._assign(X, mu, U, d)\n",
    "\n",
    "            #Estimation\n",
    "            for j in range(len(d)):\n",
    "                mu[j] = np.mean(X[Y == j], axis=0)\n",
    "                R = (X[Y == j, :] - mu[j])\n",
    "                # Uj, _, _ =  np.linalg.svd(R.T, full_matrices=False)\n",
    "                #U[j] = Uj[:, :d[j]]\n",
    "                U[j], _, _ =  randomized_svd(R.T, d[j])\n",
    "\n",
    "        Y, J = self._assign(X, mu, U, d)\n",
    "        \n",
    "        return (mu, U, Y, J, i)"
   ]
  },
  {
   "cell_type": "markdown",
   "metadata": {},
   "source": [
    "## Plot curves for growing number of individuals"
   ]
  },
  {
   "cell_type": "code",
   "execution_count": 323,
   "metadata": {
    "collapsed": false
   },
   "outputs": [
    {
     "name": "stdout",
     "output_type": "stream",
     "text": [
      "2\n",
      "end SC\n",
      "end SSC\n",
      "end k-Sub\n",
      "5\n",
      "end SC\n",
      "end SSC\n",
      "end k-Sub\n",
      "10\n",
      "end SC\n",
      "end SSC\n",
      "end k-Sub\n",
      "15\n",
      "end SC\n",
      "end SSC\n",
      "end k-Sub\n",
      "20\n",
      "end SC\n",
      "end SSC\n",
      "end k-Sub\n",
      "30\n",
      "end SC\n"
     ]
    },
    {
     "ename": "KeyboardInterrupt",
     "evalue": "",
     "output_type": "error",
     "traceback": [
      "\u001b[0;31m---------------------------------------------------------------------------\u001b[0m",
      "\u001b[0;31mKeyboardInterrupt\u001b[0m                         Traceback (most recent call last)",
      "\u001b[0;32m<ipython-input-323-bc6cb9c28d54>\u001b[0m in \u001b[0;36m<module>\u001b[0;34m()\u001b[0m\n\u001b[1;32m     21\u001b[0m     \u001b[1;31m# SSC\u001b[0m\u001b[1;33m\u001b[0m\u001b[1;33m\u001b[0m\u001b[0m\n\u001b[1;32m     22\u001b[0m     \u001b[0mtau\u001b[0m \u001b[1;33m=\u001b[0m \u001b[1;36m10\u001b[0m \u001b[1;33m*\u001b[0m \u001b[0mgetTau\u001b[0m\u001b[1;33m(\u001b[0m\u001b[0mind_data\u001b[0m\u001b[1;33m.\u001b[0m\u001b[0mT\u001b[0m\u001b[1;33m)\u001b[0m\u001b[1;33m\u001b[0m\u001b[0m\n\u001b[0;32m---> 23\u001b[0;31m     \u001b[0mpred_labels_ssc\u001b[0m \u001b[1;33m=\u001b[0m \u001b[0mssc\u001b[0m\u001b[1;33m(\u001b[0m\u001b[0mind_data\u001b[0m\u001b[1;33m,\u001b[0m \u001b[0mind\u001b[0m\u001b[1;33m,\u001b[0m \u001b[0mtau\u001b[0m\u001b[1;33m,\u001b[0m \u001b[1;36m27185\u001b[0m\u001b[1;33m)\u001b[0m\u001b[1;33m\u001b[0m\u001b[0m\n\u001b[0m\u001b[1;32m     24\u001b[0m     \u001b[0mssc_hist\u001b[0m\u001b[1;33m.\u001b[0m\u001b[0mappend\u001b[0m\u001b[1;33m(\u001b[0m\u001b[0mclustering_error\u001b[0m\u001b[1;33m(\u001b[0m\u001b[0mind_labels\u001b[0m\u001b[1;33m,\u001b[0m \u001b[0mpred_labels_ssc\u001b[0m\u001b[1;33m)\u001b[0m\u001b[1;33m)\u001b[0m\u001b[1;33m\u001b[0m\u001b[0m\n\u001b[1;32m     25\u001b[0m     \u001b[0mprint\u001b[0m\u001b[1;33m(\u001b[0m\u001b[1;34m'end SSC'\u001b[0m\u001b[1;33m)\u001b[0m\u001b[1;33m\u001b[0m\u001b[0m\n",
      "\u001b[0;32m<ipython-input-58-70ab514e5e61>\u001b[0m in \u001b[0;36mssc\u001b[0;34m(X, k, tau, mu)\u001b[0m\n\u001b[1;32m     48\u001b[0m \u001b[1;32mdef\u001b[0m \u001b[0mssc\u001b[0m\u001b[1;33m(\u001b[0m\u001b[0mX\u001b[0m\u001b[1;33m,\u001b[0m \u001b[0mk\u001b[0m\u001b[1;33m,\u001b[0m \u001b[0mtau\u001b[0m\u001b[1;33m,\u001b[0m \u001b[0mmu\u001b[0m\u001b[1;33m)\u001b[0m\u001b[1;33m:\u001b[0m\u001b[1;33m\u001b[0m\u001b[0m\n\u001b[1;32m     49\u001b[0m     \u001b[0mD\u001b[0m\u001b[1;33m,\u001b[0m \u001b[0mN\u001b[0m \u001b[1;33m=\u001b[0m \u001b[0mX\u001b[0m\u001b[1;33m.\u001b[0m\u001b[0mshape\u001b[0m\u001b[1;33m\u001b[0m\u001b[0m\n\u001b[0;32m---> 50\u001b[0;31m     \u001b[0mC\u001b[0m \u001b[1;33m=\u001b[0m \u001b[0mlasso_admm\u001b[0m\u001b[1;33m(\u001b[0m\u001b[0mX\u001b[0m\u001b[1;33m,\u001b[0m \u001b[0mtau\u001b[0m\u001b[1;33m,\u001b[0m \u001b[0mmu\u001b[0m\u001b[1;33m)\u001b[0m\u001b[1;33m\u001b[0m\u001b[0m\n\u001b[0m\u001b[1;32m     51\u001b[0m \u001b[1;33m\u001b[0m\u001b[0m\n\u001b[1;32m     52\u001b[0m     \u001b[1;31m# normalize the columns using Algorithm 1 from\u001b[0m\u001b[1;33m\u001b[0m\u001b[1;33m\u001b[0m\u001b[0m\n",
      "\u001b[0;32m<ipython-input-58-70ab514e5e61>\u001b[0m in \u001b[0;36mlasso_admm\u001b[0;34m(X, tau, mu, max_iter, eps_precision)\u001b[0m\n\u001b[1;32m     16\u001b[0m \u001b[1;33m\u001b[0m\u001b[0m\n\u001b[1;32m     17\u001b[0m     \u001b[1;32mwhile\u001b[0m \u001b[0mi\u001b[0m \u001b[1;33m<\u001b[0m \u001b[0mmax_iter\u001b[0m\u001b[1;33m:\u001b[0m\u001b[1;33m\u001b[0m\u001b[0m\n\u001b[0;32m---> 18\u001b[0;31m         \u001b[0mZ\u001b[0m \u001b[1;33m=\u001b[0m \u001b[0mU\u001b[0m\u001b[1;33m.\u001b[0m\u001b[0mdot\u001b[0m\u001b[1;33m(\u001b[0m\u001b[0mtau\u001b[0m \u001b[1;33m*\u001b[0m \u001b[0mV\u001b[0m \u001b[1;33m+\u001b[0m \u001b[0mmu\u001b[0m \u001b[1;33m*\u001b[0m \u001b[1;33m(\u001b[0m\u001b[0mC\u001b[0m \u001b[1;33m-\u001b[0m \u001b[0mdelta\u001b[0m\u001b[1;33m/\u001b[0m\u001b[0mmu\u001b[0m\u001b[1;33m)\u001b[0m\u001b[1;33m)\u001b[0m\u001b[1;33m\u001b[0m\u001b[0m\n\u001b[0m\u001b[1;32m     19\u001b[0m \u001b[1;33m\u001b[0m\u001b[0m\n\u001b[1;32m     20\u001b[0m         \u001b[0mC\u001b[0m \u001b[1;33m=\u001b[0m \u001b[0mshrinked_thresholding\u001b[0m\u001b[1;33m(\u001b[0m\u001b[0mZ\u001b[0m \u001b[1;33m+\u001b[0m \u001b[0mdelta\u001b[0m\u001b[1;33m/\u001b[0m\u001b[0mmu\u001b[0m\u001b[1;33m,\u001b[0m \u001b[1;36m1\u001b[0m\u001b[1;33m/\u001b[0m\u001b[0mmu\u001b[0m\u001b[1;33m)\u001b[0m\u001b[1;33m\u001b[0m\u001b[0m\n",
      "\u001b[0;31mKeyboardInterrupt\u001b[0m: "
     ]
    }
   ],
   "source": [
    "individuals = [2, 5, 10, 15, 20, 30, 38]\n",
    "sc_hist = []\n",
    "ssc_hist = []\n",
    "ksub_hist = []\n",
    "\n",
    "for ind in individuals:\n",
    "    print(ind)\n",
    "    # get individuals\n",
    "    mask_ind, = np.where(np.logical_and(extendedYaleB['EYALEB_LABEL'][0,:] >= 1,\n",
    "              extendedYaleB['EYALEB_LABEL'][0,:] <= ind) == True)\n",
    "    ind_data = extendedYaleB['EYALEB_DATA'][:,mask_ind].astype(np.float32)\n",
    "    ind_labels = extendedYaleB['EYALEB_LABEL'][:,mask_ind].reshape(-1)\n",
    "    \n",
    "    # Spectral Clustering\n",
    "    Xp = ind_data / np.linalg.norm(ind_data, axis=0)\n",
    "    Aff = gaussian_knn_affinity(Xp.T, 3, 0.3) # k-NN = 3, sigma = 0.3\n",
    "    pred_labels = spectralClustering(Aff, ind)\n",
    "    sc_hist.append(clustering_error(ind_labels, pred_labels))\n",
    "    print('end SC')\n",
    "    \n",
    "    # SSC\n",
    "    tau = 10 * getTau(ind_data.T)\n",
    "    pred_labels_ssc = ssc(ind_data, ind, tau, 27185)\n",
    "    ssc_hist.append(clustering_error(ind_labels, pred_labels_ssc))\n",
    "    print('end SSC')\n",
    "    \n",
    "    # k-Subspaces\n",
    "    ksub = Ksubspaces_v1(ind_data.T, 3 * np.ones(ind, dtype=int), restarts=10)\n",
    "    ksub_hist.append(clustering_error(ind_labels, ksub.Y))\n",
    "    print('end k-Sub')\n",
    "    \n",
    "\n",
    "# plot\n",
    "plt.figure(figsize=(20,15))\n",
    "plt.plot(individuals, sc_hist, '-bo', label=\"Spectral Clustering\")\n",
    "plt.plot(individuals, ssc_hist, '-ro', label=\"SSC\")\n",
    "plt.plot(individuals, ksub_hist, '-go', label=\"k-Subspaces\")\n",
    "plt.xlabel('Number of visages', size=18)\n",
    "plt.ylabel('Clustering error', size=18)\n",
    "plt.title('Clustering error function of the number of visages', size=22)\n",
    "plt.legend()"
   ]
  },
  {
   "cell_type": "code",
   "execution_count": 335,
   "metadata": {
    "collapsed": false
   },
   "outputs": [
    {
     "data": {
      "text/plain": [
       "<matplotlib.legend.Legend at 0x2abbd84de48>"
      ]
     },
     "execution_count": 335,
     "metadata": {},
     "output_type": "execute_result"
    },
    {
     "data": {
      "image/png": "[encoded data removed]",
      "text/plain": [
       "<matplotlib.figure.Figure at 0x2ab81268e80>"
      ]
     },
     "metadata": {},
     "output_type": "display_data"
    }
   ],
   "source": [
    "# plot\n",
    "plt.figure()\n",
    "plt.plot(individuals[:5], sc_hist[:5], '-bo', label=\"Spectral Clustering\")\n",
    "plt.plot(individuals[:5], ssc_hist[:5], '-ro', label=\"SSC\")\n",
    "plt.plot(individuals[:5], ksub_hist[:5], '-go', label=\"k-Subspaces\")\n",
    "plt.xlabel('Number of individuals')\n",
    "plt.ylabel('Clustering error')\n",
    "plt.title('Clustering error function of the number of individuals')\n",
    "plt.legend()"
   ]
  },
  {
   "cell_type": "markdown",
   "metadata": {},
   "source": [
    "## 3. Motion Segmentation"
   ]
  },
  {
   "cell_type": "code",
   "execution_count": 264,
   "metadata": {
    "collapsed": true
   },
   "outputs": [],
   "source": [
    "import os\n",
    "import glob\n",
    "import scipy.io"
   ]
  },
  {
   "cell_type": "code",
   "execution_count": 296,
   "metadata": {
    "collapsed": false
   },
   "outputs": [],
   "source": [
    "sc_errors = []\n",
    "ssc_errors = []\n",
    "\n",
    "src_dir = 'Hopkins155'\n",
    "for elt in os.listdir(src_dir):\n",
    "    if os.path.isdir(os.path.join(src_dir, elt)):\n",
    "        mat = scipy.io.loadmat(glob.glob(os.path.join(src_dir, elt, \"*.mat\"))[0])\n",
    "        labels = mat['s'].reshape(-1)\n",
    "        n = int(max(mat['s']))\n",
    "        N = mat['x'].shape[1]\n",
    "        F = mat['x'].shape[2]\n",
    "        D = 2 * F\n",
    "        X = np.transpose(mat['x'][:2,:,:], (2, 0, 1)).reshape(D, N)\n",
    "    \n",
    "    \n",
    "        # Spectral Clustering\n",
    "        Xp = X / np.linalg.norm(X, axis=0) # need to normalize X if use Remi's gaussian knn affinity\n",
    "        Aff = gaussian_knn_affinity(Xp.T, 8, 1) # k-NN = 8, sigma = 1\n",
    "        sc_errors.append(clustering_error(labels, spectralClustering(Aff, n)))\n",
    "        \n",
    "        # SSC\n",
    "        tau = 10 * getTau(X.T)\n",
    "        mu2 = 800\n",
    "        pred_labels_ssc = ssc(X, n, tau, mu2)\n",
    "        ssc_errors.append(clustering_error(labels, pred_labels_ssc))"
   ]
  },
  {
   "cell_type": "code",
   "execution_count": 297,
   "metadata": {
    "collapsed": false
   },
   "outputs": [
    {
     "name": "stdout",
     "output_type": "stream",
     "text": [
      "0.204819595702\n",
      "0.203914829407\n",
      "0.172113794143\n"
     ]
    }
   ],
   "source": [
    "print(np.mean(sc_errors))\n",
    "print(np.median(sc_errors))\n",
    "print(np.std(sc_errors))"
   ]
  },
  {
   "cell_type": "code",
   "execution_count": 298,
   "metadata": {
    "collapsed": false
   },
   "outputs": [
    {
     "name": "stdout",
     "output_type": "stream",
     "text": [
      "0.186347561079\n",
      "0.162857142857\n",
      "0.161512520779\n"
     ]
    }
   ],
   "source": [
    "print(np.mean(ssc_errors))\n",
    "print(np.median(ssc_errors))\n",
    "print(np.std(ssc_errors))"
   ]
  },
  {
   "cell_type": "code",
   "execution_count": null,
   "metadata": {
    "collapsed": true
   },
   "outputs": [],
   "source": []
  }
 ],
 "metadata": {
  "kernelspec": {
   "display_name": "Python 3",
   "language": "python",
   "name": "python3"
  },
  "language_info": {
   "codemirror_mode": {
    "name": "ipython",
    "version": 3
   },
   "file_extension": ".py",
   "mimetype": "text/x-python",
   "name": "python",
   "nbconvert_exporter": "python",
   "pygments_lexer": "ipython3",
   "version": "3.6.0"
  }
 },
 "nbformat": 4,
 "nbformat_minor": 2
}
